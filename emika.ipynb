{
 "cells": [
  {
   "cell_type": "code",
   "execution_count": 5,
   "metadata": {},
   "outputs": [],
   "source": [
    "import matplotlib.pyplot as plt\n",
    "from mpl_toolkits.mplot3d import Axes3D\n",
    "import numpy as np"
   ]
  },
  {
   "cell_type": "code",
   "execution_count": 12,
   "metadata": {},
   "outputs": [],
   "source": [
    "def T(a_arr, alpha_arr, d_arr, theta_arr):\n",
    "    pose = np.identity(4)\n",
    "    for i in range(len(theta_arr)):\n",
    "        a, alpha, d, theta = a_arr[i], alpha_arr[i], d_arr[i], theta_arr[i]\n",
    "        rot = np.matrix([\n",
    "            [np.cos(theta), -np.sin(theta), 0, 0],\n",
    "            [np.sin(theta),  np.cos(theta), 0, 0],\n",
    "            [0            ,              0, 1, d],\n",
    "            [0            ,              0, 0, 1],\n",
    "        ])\n",
    "        trans = np.matrix([\n",
    "            [1,             0,              0, a],\n",
    "            [0, np.cos(alpha), -np.sin(alpha), 0],\n",
    "            [0, np.sin(alpha),  np.cos(alpha), 0],\n",
    "            [0,             0,              0, 1],\n",
    "        ])\n",
    "        pose = np.matmul(pose, np.matmul(rot, trans))\n",
    "    return pose"
   ]
  },
  {
   "cell_type": "code",
   "execution_count": 167,
   "metadata": {},
   "outputs": [],
   "source": [
    "def z(i_minus_1, theta_arr, alpha_arr): # returns z_{i-1}.\n",
    "    #z_0 = np.array([[0,0,1]]).T\n",
    "    if i_minus_1==0:\n",
    "        return np.array([0,0,1]).T\n",
    "    R = np.identity(3)\n",
    "    for x in range(1, i_minus_1+1): # x in theta_arr:\n",
    "        theta, alpha = theta_arr[x-1], alpha_arr[x-1]\n",
    "        R_z = np.matrix([\n",
    "            [np.cos(theta), -np.sin(theta), 0],\n",
    "            [np.sin(theta),  np.cos(theta), 0],\n",
    "            [            0,              0, 1]\n",
    "        ])\n",
    "        R_x = np.matrix([\n",
    "            [1,             0,              0],\n",
    "            [0, np.cos(alpha), -np.sin(alpha)],\n",
    "            [0, np.sin(alpha),  np.cos(alpha)],\n",
    "        ])\n",
    "        R = np.matmul(R, np.matmul(R_z, R_x))\n",
    "    return np.asarray(R[:,2].T)[0].T # third column"
   ]
  },
  {
   "cell_type": "code",
   "execution_count": 168,
   "metadata": {},
   "outputs": [
    {
     "data": {
      "text/plain": [
       "array([ 2.53632657e-17, -1.00000000e+00,  9.81389106e-33])"
      ]
     },
     "execution_count": 168,
     "metadata": {},
     "output_type": "execute_result"
    }
   ],
   "source": [
    "z(2, [np.pi/2, -np.pi/2], [np.pi/4, np.pi/2])"
   ]
  },
  {
   "cell_type": "code",
   "execution_count": 169,
   "metadata": {},
   "outputs": [],
   "source": [
    "def p(i_minus_1, a_arr, alpha_arr, d_arr, theta_arr):\n",
    "    a, alpha, d, theta = a_arr[:i_minus_1+1], alpha_arr[:i_minus_1+1], d_arr[:i_minus_1+1], theta_arr[:i_minus_1+1]\n",
    "    #a, alpha, d, theta = a_arr[i_minus_1], alpha_arr[i_minus_1], d_arr[i_minus_1], theta_arr[i_minus_1]\n",
    "    pose = T(a, alpha, d, theta)\n",
    "    return np.asarray(pose[:3,-1].T)[0].T"
   ]
  },
  {
   "cell_type": "code",
   "execution_count": 174,
   "metadata": {},
   "outputs": [],
   "source": [
    "def jacobian(a_arr, alpha_arr, d_arr, theta_arr):\n",
    "    I = len(theta_arr)\n",
    "    p_e = p(I-1, a_arr, alpha_arr, d_arr, theta_arr)\n",
    "    J = np.zeros(shape=(6,I))\n",
    "    for i in range(I):\n",
    "        z_i = z(i, theta_arr, alpha_arr)\n",
    "        diff = p_e - p(i, a_arr, alpha_arr, d_arr, theta_arr)\n",
    "        cp = np.cross(z_i.T, diff.T)\n",
    "        col = np.concatenate((cp, z_i))\n",
    "        print col\n",
    "        J[:,i] = col\n",
    "    return J"
   ]
  },
  {
   "cell_type": "code",
   "execution_count": 175,
   "metadata": {},
   "outputs": [
    {
     "name": "stdout",
     "output_type": "stream",
     "text": [
      "[ 0.04093309 -0.081512    0.          0.          0.          1.        ]\n",
      "[ 0.04093309 -0.081512    0.          0.          0.          1.        ]\n",
      "[ 6.34180589e-02  1.96175045e-02  8.99679382e-02 -2.95520207e-01\n",
      "  9.55336489e-01  6.12323400e-17]\n",
      "[ 0.32643983 -0.08906299 -0.08832786  0.28232124  0.08733219  0.95533649]\n",
      "[-0.06690997  0.01043802  0.04139816 -0.08321745 -0.98986424  0.11508099]\n",
      "[-0.03239536  0.05713095 -0.014721   -0.21042857  0.1303323   0.9688825 ]\n",
      "[-0.          0.          0.          0.48131384 -0.8488226   0.21871712]\n"
     ]
    },
    {
     "data": {
      "text/plain": [
       "array([[ 4.09330874e-02,  4.09330874e-02,  6.34180589e-02,\n",
       "         3.26439829e-01, -6.69099747e-02, -3.23953636e-02,\n",
       "        -0.00000000e+00],\n",
       "       [-8.15119957e-02, -8.15119957e-02,  1.96175045e-02,\n",
       "        -8.90629910e-02,  1.04380156e-02,  5.71309495e-02,\n",
       "         0.00000000e+00],\n",
       "       [ 0.00000000e+00,  0.00000000e+00,  8.99679382e-02,\n",
       "        -8.83278623e-02,  4.13981578e-02, -1.47209988e-02,\n",
       "         0.00000000e+00],\n",
       "       [ 0.00000000e+00,  0.00000000e+00, -2.95520207e-01,\n",
       "         2.82321237e-01, -8.32174494e-02, -2.10428570e-01,\n",
       "         4.81313842e-01],\n",
       "       [ 0.00000000e+00,  0.00000000e+00,  9.55336489e-01,\n",
       "         8.73321925e-02, -9.89864244e-01,  1.30332302e-01,\n",
       "        -8.48822602e-01],\n",
       "       [ 1.00000000e+00,  1.00000000e+00,  6.12323400e-17,\n",
       "         9.55336489e-01,  1.15080989e-01,  9.68882505e-01,\n",
       "         2.18717116e-01]])"
      ]
     },
     "execution_count": 175,
     "metadata": {},
     "output_type": "execute_result"
    }
   ],
   "source": [
    "a_arr = [0, 0, 0, 0.0825, -0.0825, 0, 0.088, 0]\n",
    "alpha_arr = [0, -np.pi/2, np.pi/2, np.pi/2, -np.pi/2, np.pi/2, np.pi/2, 0]\n",
    "d_arr = [0.333, 0, 0.316, 0, 0.384, 0, 0, 0.107]\n",
    "theta_arr = [0.1, 0.2, 0.3, -0.4, 0.5, 0.6, 0.7]\n",
    "jacobian(a_arr, alpha_arr, d_arr, theta_arr)"
   ]
  },
  {
   "cell_type": "code",
   "execution_count": null,
   "metadata": {},
   "outputs": [],
   "source": []
  }
 ],
 "metadata": {
  "kernelspec": {
   "display_name": "Python 2",
   "language": "python",
   "name": "python2"
  },
  "language_info": {
   "codemirror_mode": {
    "name": "ipython",
    "version": 2
   },
   "file_extension": ".py",
   "mimetype": "text/x-python",
   "name": "python",
   "nbconvert_exporter": "python",
   "pygments_lexer": "ipython2",
   "version": "2.7.15rc1"
  }
 },
 "nbformat": 4,
 "nbformat_minor": 2
}
