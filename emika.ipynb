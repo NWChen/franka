{
 "cells": [
  {
   "cell_type": "code",
   "execution_count": 1,
   "metadata": {},
   "outputs": [],
   "source": [
    "import matplotlib.pyplot as plt\n",
    "from mpl_toolkits.mplot3d import Axes3D\n",
    "import numpy as np"
   ]
  },
  {
   "cell_type": "code",
   "execution_count": 2,
   "metadata": {},
   "outputs": [],
   "source": [
    "def T(a_arr, alpha_arr, d_arr, theta_arr):\n",
    "    pose = np.identity(4)\n",
    "    for i in range(len(theta_arr)):\n",
    "        a, alpha, d, theta = a_arr[i], alpha_arr[i], d_arr[i], theta_arr[i]\n",
    "        rot = np.matrix([\n",
    "            [np.cos(theta), -np.sin(theta), 0, 0],\n",
    "            [np.sin(theta),  np.cos(theta), 0, 0],\n",
    "            [0            ,              0, 1, d],\n",
    "            [0            ,              0, 0, 1],\n",
    "        ])\n",
    "        trans = np.matrix([\n",
    "            [1,             0,              0, a],\n",
    "            [0, np.cos(alpha), -np.sin(alpha), 0],\n",
    "            [0, np.sin(alpha),  np.cos(alpha), 0],\n",
    "            [0,             0,              0, 1],\n",
    "        ])\n",
    "        pose = np.matmul(pose, np.matmul(rot, trans))\n",
    "    return pose"
   ]
  },
  {
   "cell_type": "code",
   "execution_count": 3,
   "metadata": {},
   "outputs": [],
   "source": [
    "def z(i_minus_1, theta_arr, alpha_arr): # returns z_{i-1}.\n",
    "    #z_0 = np.array([[0,0,1]]).T\n",
    "    if i_minus_1==0:\n",
    "        return np.array([0,0,1]).T\n",
    "    R = np.identity(3)\n",
    "    for x in range(1, i_minus_1+1): # x in theta_arr:\n",
    "        theta, alpha = theta_arr[x-1], alpha_arr[x-1]\n",
    "        R_z = np.matrix([\n",
    "            [np.cos(theta), -np.sin(theta), 0],\n",
    "            [np.sin(theta),  np.cos(theta), 0],\n",
    "            [            0,              0, 1]\n",
    "        ])\n",
    "        R_x = np.matrix([\n",
    "            [1,             0,              0],\n",
    "            [0, np.cos(alpha), -np.sin(alpha)],\n",
    "            [0, np.sin(alpha),  np.cos(alpha)],\n",
    "        ])\n",
    "        R = np.matmul(R, np.matmul(R_z, R_x))\n",
    "    return np.asarray(R[:,2].T)[0].T # third column"
   ]
  },
  {
   "cell_type": "code",
   "execution_count": 4,
   "metadata": {},
   "outputs": [
    {
     "data": {
      "text/plain": [
       "array([ 2.53632657e-17, -1.00000000e+00,  9.81389106e-33])"
      ]
     },
     "execution_count": 4,
     "metadata": {},
     "output_type": "execute_result"
    }
   ],
   "source": [
    "z(2, [np.pi/2, -np.pi/2], [np.pi/4, np.pi/2])"
   ]
  },
  {
   "cell_type": "code",
   "execution_count": 5,
   "metadata": {},
   "outputs": [],
   "source": [
    "def p(i_minus_1, a_arr, alpha_arr, d_arr, theta_arr):\n",
    "    a, alpha, d, theta = a_arr[:i_minus_1+1], alpha_arr[:i_minus_1+1], d_arr[:i_minus_1+1], theta_arr[:i_minus_1+1]\n",
    "    #a, alpha, d, theta = a_arr[i_minus_1], alpha_arr[i_minus_1], d_arr[i_minus_1], theta_arr[i_minus_1]\n",
    "    pose = T(a, alpha, d, theta)\n",
    "    return np.asarray(pose[:3,-1].T)[0].T"
   ]
  },
  {
   "cell_type": "code",
   "execution_count": 6,
   "metadata": {},
   "outputs": [],
   "source": [
    "def jacobian(a_arr, alpha_arr, d_arr, theta_arr):\n",
    "    I = len(theta_arr)\n",
    "    p_e = p(I-1, a_arr, alpha_arr, d_arr, theta_arr)\n",
    "    J = np.zeros(shape=(6,I))\n",
    "    for i in range(I):\n",
    "        z_i = z(i, theta_arr, alpha_arr)\n",
    "        diff = p_e - p(i, a_arr, alpha_arr, d_arr, theta_arr)\n",
    "        cp = np.cross(z_i.T, diff.T)\n",
    "        col = np.concatenate((cp, z_i))\n",
    "        J[:,i] = col\n",
    "    return J"
   ]
  },
  {
   "cell_type": "code",
   "execution_count": 7,
   "metadata": {},
   "outputs": [],
   "source": [
    "a_arr = [0, 0, 0, 0.0825, -0.0825, 0, 0.088, 0]\n",
    "alpha_arr = [0, -np.pi/2, np.pi/2, np.pi/2, -np.pi/2, np.pi/2, np.pi/2, 0]\n",
    "d_arr = [0.333, 0, 0.316, 0, 0.384, 0, 0, 0.107]\n",
    "theta_arr = [0.1, 0.2, 0.3, -0.4, 0.5, 0.6, 0.7]\n",
    "J = jacobian(a_arr, alpha_arr, d_arr, theta_arr)"
   ]
  },
  {
   "cell_type": "markdown",
   "metadata": {},
   "source": [
    "### Iterative IK"
   ]
  },
  {
   "cell_type": "code",
   "execution_count": 8,
   "metadata": {},
   "outputs": [],
   "source": [
    "e = np.zeros(shape=(6,))\n",
    "T_k = np.matrix([ # = T_i\n",
    "    [0.515, 0.481, 0.709, -.0815],\n",
    "    [0.476, -.849, 0.230, -.0409],\n",
    "    [0.713, 0.219, -.667,  0.399],\n",
    "    [    0,     0,      0,      1]\n",
    "])\n",
    "T_d = np.matrix([\n",
    "    [-.781, -.474, 0.407, -.0206],\n",
    "    [-.220, -.818, 0.531,  -.147],\n",
    "    [-.585, 0.325, -.743,  0.620],\n",
    "    [    0,     0,     0,       1]\n",
    "])\n",
    "q_i = [0.1, 0.2, 0.3, -0.4, 0.5, 0.6, 0.7]"
   ]
  },
  {
   "cell_type": "code",
   "execution_count": 17,
   "metadata": {},
   "outputs": [],
   "source": [
    "q_arr = []\n",
    "for k in range(100): # TODO convergence via norm\n",
    "    theta_arr = q_i # TODO whack?\n",
    "    T_k = T(a_arr, alpha_arr, d_arr, theta_arr)\n",
    "    J_k = jacobian(a_arr, alpha_arr, d_arr, theta_arr)\n",
    "    \n",
    "    e_p = T_d[:3,-1] - T_k[:3,-1]\n",
    "    e_o = np.cross(T_k[:3,0].T, T_d[:3,0].T) +\\\n",
    "            np.cross(T_k[:3,1].T, T_d[:3,1].T) +\\\n",
    "            np.cross(T_k[:3,2].T, T_d[:3,2].T)    \n",
    "    e = np.concatenate((np.asarray(e_p.T)[0], np.asarray(e_o)[0])) # TODO check this\n",
    "    \n",
    "    J_inv = J_k.T\n",
    "    delta_q_k = np.matmul(J_inv, e)\n",
    "    q_i = q_i + delta_q_k\n",
    "    q_arr.append(q_i)"
   ]
  },
  {
   "cell_type": "code",
   "execution_count": 19,
   "metadata": {},
   "outputs": [],
   "source": [
    "with open('q.csv', 'w') as f:\n",
    "    for row in q_arr:\n",
    "        n_row = ['{:.3f}'.format(n) for n in row.tolist()]\n",
    "        f.write('%s\\n' % ','.join(n_row))"
   ]
  },
  {
   "cell_type": "code",
   "execution_count": null,
   "metadata": {},
   "outputs": [],
   "source": []
  }
 ],
 "metadata": {
  "kernelspec": {
   "display_name": "Python 2",
   "language": "python",
   "name": "python2"
  },
  "language_info": {
   "codemirror_mode": {
    "name": "ipython",
    "version": 2
   },
   "file_extension": ".py",
   "mimetype": "text/x-python",
   "name": "python",
   "nbconvert_exporter": "python",
   "pygments_lexer": "ipython2",
   "version": "2.7.15rc1"
  }
 },
 "nbformat": 4,
 "nbformat_minor": 2
}
